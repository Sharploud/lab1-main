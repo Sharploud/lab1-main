{
  "cells": [
    {
      "attachments": {},
      "cell_type": "markdown",
      "metadata": {
        "id": "M-DGa20PaHnu"
      },
      "source": [
        "#Задача 1\n",
        "Написать функцию на вход которой подается строка, состоящая из латинских букв.\n",
        "Функция должна вернуть количество гласных букв (a, e, i, o, u) в этой строке. Написать тесты для кода"
      ]
    },
    {
      "cell_type": "code",
      "execution_count": 1,
      "metadata": {
        "id": "XvX8X_JJ6PCb"
      },
      "outputs": [
        {
          "data": {
            "text/plain": [
              "[('hello', 2, 2),\n",
              " ('world', 1, 1),\n",
              " ('AEIOU', 5, 5),\n",
              " ('python', 1, 1),\n",
              " ('sky', 0, 0)]"
            ]
          },
          "execution_count": 1,
          "metadata": {},
          "output_type": "execute_result"
        }
      ],
      "source": [
        "def count_vowels(input_string):\n",
        "    vowels = {'a', 'e', 'i', 'o', 'u'}\n",
        "    input_string = input_string.lower()\n",
        "    return sum(1 for char in input_string if char in vowels)\n",
        "\n",
        "\n",
        "test_cases = [\n",
        "    (\"hello\", 2),  \n",
        "    (\"world\", 1),  \n",
        "    (\"AEIOU\", 5),  \n",
        "    (\"python\", 1), \n",
        "    (\"sky\", 0),    \n",
        "]\n",
        "\n",
        "# Running test cases\n",
        "test_results = [(case[0], count_vowels(case[0]), case[1]) for case in test_cases]\n",
        "test_results\n"
      ]
    },
    {
      "attachments": {},
      "cell_type": "markdown",
      "metadata": {
        "id": "t2ClV_Y0bbr6"
      },
      "source": [
        "# Задача 2\n",
        "Написать функцию на вход, которой подается строка. Функция должна вернуть true, если\n",
        "каждый символ в строке встречается только 1 раз, иначе должна вернуть false. Написать тесты для кода"
      ]
    },
    {
      "cell_type": "code",
      "execution_count": 3,
      "metadata": {
        "id": "FppbECao6VIz"
      },
      "outputs": [
        {
          "name": "stdout",
          "output_type": "stream",
          "text": [
            "All tests passed!\n"
          ]
        }
      ],
      "source": [
        "def all_unique_characters(s: str) -> bool:\n",
        "    for char in s:\n",
        "        if s.count(char) > 1:\n",
        "            return False\n",
        "    return True\n",
        "\n",
        "def test_all_unique_characters():\n",
        "    assert all_unique_characters(\"abcdef\") == True, \"Test 1 Failed\"\n",
        "    assert all_unique_characters(\"123456\") == True, \"Test 2 Failed\"\n",
        "    assert all_unique_characters(\"hello\") == False, \"Test 3 Failed\"\n",
        "    assert all_unique_characters(\"112233\") == False, \"Test 4 Failed\"\n",
        "    assert all_unique_characters(\"\") == True, \"Test 5 Failed\"\n",
        "    assert all_unique_characters(\"a\") == True, \"Test 6 Failed\"\n",
        "    print(\"All tests passed!\")\n",
        "\n",
        "# Запуск тестов\n",
        "test_all_unique_characters()"
      ]
    },
    {
      "attachments": {},
      "cell_type": "markdown",
      "metadata": {
        "id": "udRiIK1cdt6E"
      },
      "source": [
        "# Задача 3\n",
        "Написать функцию, которая принимает положительное число и возвращает количество\n",
        "бит равных 1 в этом числе. Написать тесты для кода"
      ]
    },
    {
      "cell_type": "code",
      "execution_count": 6,
      "metadata": {
        "id": "6tkfDJRz6dp_"
      },
      "outputs": [
        {
          "name": "stdout",
          "output_type": "stream",
          "text": [
            "All tests passed!\n"
          ]
        }
      ],
      "source": [
        "\n",
        "def count_ones_in_binary(n: int) -> int:\n",
        "    return bin(n).count('1')\n",
        "\n",
        "\n",
        "def test_count_ones_in_binary():\n",
        "    \n",
        "    assert count_ones_in_binary(5) == 2, \"Test 1 Failed\"\n",
        "    \n",
        "    \n",
        "    assert count_ones_in_binary(0) == 0, \"Test 2 Failed\"\n",
        "    \n",
        "    \n",
        "    assert count_ones_in_binary(15) == 4, \"Test 3 Failed\"\n",
        "    \n",
        "    \n",
        "    assert count_ones_in_binary(1) == 1, \"Test 4 Failed\"\n",
        "    \n",
        "    \n",
        "    assert count_ones_in_binary(1023) == 10, \"Test 5 Failed\"\n",
        "    \n",
        "    print(\"All tests passed!\")\n",
        "\n",
        "\n",
        "test_count_ones_in_binary()"
      ]
    },
    {
      "attachments": {},
      "cell_type": "markdown",
      "metadata": {
        "id": "26dDUz-Ae17N"
      },
      "source": [
        "# Задача 4\n",
        "Написать функцию, которая принимает положительное число. Функция должна вернуть то,\n",
        "сколько раз необходимо перемножать цифры числа или результат перемножения, чтобы\n",
        "получилось число состоящее из одной цифры.\n",
        "Например, для входного числа:\n",
        "· 39 функция должна вернуть 3, так как 3*9=27 => 2*7=14 => 1*4=4\n",
        "· 4 функция должна вернуть 0, так как число уже состоит из одной цифры\n",
        "· 999 функция должна вернуть 4, так как 9*9*9=729 => 7*2*9=126 => 1*2*6=12 =>\n",
        "1*2=2. Написать тесты для кода"
      ]
    },
    {
      "cell_type": "code",
      "execution_count": 7,
      "metadata": {
        "id": "BH1A_Mgi6i4G"
      },
      "outputs": [
        {
          "name": "stdout",
          "output_type": "stream",
          "text": [
            "{39: 3, 4: 0, 999: 4, 25: 2, 777: 4}\n"
          ]
        }
      ],
      "source": [
        "def magic(n):\n",
        "    steps = 0\n",
        "    while n >= 10:  # Continue while n is a multi-digit number\n",
        "        n = multiply_digits(n)\n",
        "        steps += 1\n",
        "    return steps\n",
        "\n",
        "def multiply_digits(n):\n",
        "    product = 1\n",
        "    while n > 0:\n",
        "        product *= n % 10\n",
        "        n //= 10\n",
        "    return product\n",
        "\n",
        "# Test cases\n",
        "test_cases = [39, 4, 999, 25, 777]\n",
        "\n",
        "# Running the function on the test cases\n",
        "results = {n: magic(n) for n in test_cases}\n",
        "print(results)\n"
      ]
    },
    {
      "attachments": {},
      "cell_type": "markdown",
      "metadata": {
        "id": "0nS-kIa8g8vd"
      },
      "source": [
        "# Задача 5\n",
        "Написать функцию, которая принимает два целочисленных вектора одинаковой длины и\n",
        "возвращает среднеквадратическое отклонение двух векторов. Написать тесты для кода"
      ]
    },
    {
      "cell_type": "code",
      "execution_count": 8,
      "metadata": {
        "id": "8iphx4LM6xbx"
      },
      "outputs": [
        {
          "name": "stdout",
          "output_type": "stream",
          "text": [
            "All test cases passed!\n"
          ]
        }
      ],
      "source": [
        "import math\n",
        "\n",
        "def mse(pred, true):\n",
        "    if len(pred) != len(true):\n",
        "        raise ValueError(\"Both vectors must be of the same length\")\n",
        "    \n",
        "    # Вычисляем сумму квадратов разностей элементов\n",
        "    squared_diff_sum = sum((p - t) ** 2 for p, t in zip(pred, true))\n",
        "    \n",
        "    # Возвращаем среднеквадратическое отклонение\n",
        "    return squared_diff_sum / len(pred)\n",
        "\n",
        "# Тестовые случаи\n",
        "def test_mse():\n",
        "    assert math.isclose(mse([1, 2, 3], [1, 2, 3]), 0.0), \"Test case 1 failed\"\n",
        "    assert math.isclose(mse([2, 4, 6], [1, 2, 3]), 4.6667, rel_tol=1e-4), \"Test case 2 failed\"\n",
        "    assert math.isclose(mse([10, 20, 30], [5, 15, 25]), 25.0), \"Test case 3 failed\"\n",
        "    \n",
        "    print(\"All test cases passed!\")\n",
        "\n",
        "# Запуск тестов\n",
        "test_mse()\n"
      ]
    },
    {
      "attachments": {},
      "cell_type": "markdown",
      "metadata": {
        "id": "vpIPKL439zkw"
      },
      "source": [
        "# Задача 6\n",
        "Написать функцию, принимающая целое положительное число. Функция должна вернуть\n",
        "строку вида “(n1**p1)(n2**p2)…(nk**pk)” представляющая разложение числа на простые\n",
        "множители (если pi == 1, то выводить только ni).\n",
        "Например, для числа 86240 функция должна вернуть “(2**5)(5)(7**2)(11)”. Написать тесты для кода"
      ]
    },
    {
      "cell_type": "code",
      "execution_count": 9,
      "metadata": {
        "id": "pFebmcZk94Jw"
      },
      "outputs": [
        {
          "name": "stdout",
          "output_type": "stream",
          "text": [
            "All test cases passed!\n"
          ]
        }
      ],
      "source": [
        "from collections import Counter\n",
        "\n",
        "def prime_factors(n):\n",
        "    i = 2\n",
        "    factors = []\n",
        "    \n",
        "    # Разложение на простые множители\n",
        "    while i * i <= n:\n",
        "        while (n % i) == 0:\n",
        "            factors.append(i)\n",
        "            n //= i\n",
        "        i += 1\n",
        "    if n > 1:\n",
        "        factors.append(n)\n",
        "    \n",
        "    return factors\n",
        "\n",
        "def format_prime_factors(n):\n",
        "    factors = prime_factors(n)\n",
        "    factor_counts = Counter(factors)\n",
        "    \n",
        "    # Форматирование в строку \"(n1**p1)(n2**p2)...(nk**pk)\"\n",
        "    result = \"\"\n",
        "    for factor, count in sorted(factor_counts.items()):\n",
        "        if count == 1:\n",
        "            result += f\"({factor})\"\n",
        "        else:\n",
        "            result += f\"({factor}**{count})\"\n",
        "    \n",
        "    return result\n",
        "\n",
        "# Тесты\n",
        "def test_format_prime_factors():\n",
        "    assert format_prime_factors(86240) == \"(2**5)(5)(7**2)(11)\", \"Test case 1 failed\"\n",
        "    assert format_prime_factors(360) == \"(2**3)(3**2)(5)\", \"Test case 2 failed\"\n",
        "    assert format_prime_factors(13) == \"(13)\", \"Test case 3 failed\"\n",
        "    assert format_prime_factors(100) == \"(2**2)(5**2)\", \"Test case 4 failed\"\n",
        "    \n",
        "    print(\"All test cases passed!\")\n",
        "\n",
        "# Запуск тестов\n",
        "test_format_prime_factors()\n"
      ]
    },
    {
      "attachments": {},
      "cell_type": "markdown",
      "metadata": {
        "id": "ps2s0BudX7A2"
      },
      "source": [
        "# Задача 7\n",
        "Написать функцию, принимающая целое число n, задающее количество кубиков. Функция\n",
        "должна определить, можно ли из данного кол-ва кубиков построить пирамиду, то есть\n",
        "можно ли представить число n как 1^2+2^2+3^2+…+k^2. Если можно, то функция должна\n",
        "вернуть k, иначе строку “It is impossible”. Написать тесты для кода"
      ]
    },
    {
      "cell_type": "code",
      "execution_count": 25,
      "metadata": {
        "id": "3YPjEXxhX_YT"
      },
      "outputs": [
        {
          "name": "stdout",
          "output_type": "stream",
          "text": [
            "All test cases passed!\n"
          ]
        }
      ],
      "source": [
        "def pyramid(number):\n",
        "    total = 0\n",
        "    k = 0\n",
        "\n",
        "    # Находим максимальное k, при котором сумма квадратов от 1 до k меньше или равна number\n",
        "    while total < number:\n",
        "        k += 1\n",
        "        total += k ** 2\n",
        "\n",
        "    # Проверяем, если сумма квадратов точно равна number\n",
        "    if total == number:\n",
        "        return k\n",
        "    else:\n",
        "        return \"It is impossible\"\n",
        "\n",
        "# Тесты\n",
        "def test_pyramid():\n",
        "    assert pyramid(14) == 3, \"Test case 1 failed\"  \n",
        "    assert pyramid(60) == \"It is impossible\", \"Test case 2 failed\"\n",
        "    assert pyramid(7) == \"It is impossible\", \"Test case 3 failed\"\n",
        "    assert pyramid(55) == 5, \"Test case 4 failed\"\n",
        "    \n",
        "    print(\"All test cases passed!\")\n",
        "\n",
        "# Запуск тестов\n",
        "test_pyramid()\n"
      ]
    },
    {
      "attachments": {},
      "cell_type": "markdown",
      "metadata": {
        "id": "KeKgmIdAQMEJ"
      },
      "source": [
        "# Задача 8\n",
        "Функция принимает на вход положительное число и определяет является ли оно сбалансированным, т.е. сумма цифр до средних равна сумме цифр после. Средними в случае нечетного числа цифр считать одну цифру, в случае четного - две средних. Написать тесты для кода"
      ]
    },
    {
      "cell_type": "code",
      "execution_count": 49,
      "metadata": {
        "id": "gMAAqtqlQrZt"
      },
      "outputs": [
        {
          "name": "stdout",
          "output_type": "stream",
          "text": [
            "All test cases passed!\n"
          ]
        }
      ],
      "source": [
        "def is_balanced(number):\n",
        "    # Преобразуем число в строку для работы с цифрами\n",
        "    num_str = str(number)\n",
        "    length = len(num_str)\n",
        "    \n",
        "    # Находим средние индексы\n",
        "    if length % 2 == 0:  # Четное количество цифр\n",
        "        mid_start = length // 2 - 1\n",
        "        mid_end = mid_start + 2\n",
        "    else:  # Нечетное количество цифр\n",
        "        mid_start = mid_end = length // 2\n",
        "    \n",
        "    # Разделяем цифры на две части\n",
        "    left_part = num_str[:mid_start]\n",
        "    right_part = num_str[mid_end:]\n",
        "    \n",
        "    # Если число имеет четное количество цифр, учитываем две средние цифры\n",
        "    if length % 2 == 0:\n",
        "        left_part = num_str[:mid_start + 1]\n",
        "        right_part = num_str[mid_end - 1:]\n",
        "\n",
        "    # Вычисляем сумму цифр в обеих частях\n",
        "    left_sum = sum(int(digit) for digit in left_part)\n",
        "    right_sum = sum(int(digit) for digit in right_part)\n",
        "    \n",
        "    return left_sum == right_sum\n",
        "\n",
        "# Тесты\n",
        "def test_is_balanced():\n",
        "    assert is_balanced(123321) == True, \"Test case 1 failed\"  # Четное количество цифр\n",
        "    assert is_balanced(1234321) == False, \"Test case 2 failed\"  # Нечетное количество цифр\n",
        "    assert is_balanced(123456) == False, \"Test case 3 failed\"  # Суммы не равны\n",
        "    assert is_balanced(1) == False, \"Test case 4 failed\"  # Однозначное число\n",
        "    assert is_balanced(123) == False, \"Test case 5 failed\"  # Нечетное количество цифр (1 + 3 = 2)\n",
        "    assert is_balanced(121) == False, \"Test case 6 failed\"  # Нечетное количество цифр (1=1, 2 не учитывается)\n",
        "\n",
        "    print(\"All test cases passed!\")\n",
        "\n",
        "# Запуск тестов\n",
        "test_is_balanced()\n"
      ]
    }
  ],
  "metadata": {
    "colab": {
      "provenance": []
    },
    "kernelspec": {
      "display_name": "Python 3",
      "name": "python3"
    },
    "language_info": {
      "codemirror_mode": {
        "name": "ipython",
        "version": 3
      },
      "file_extension": ".py",
      "mimetype": "text/x-python",
      "name": "python",
      "nbconvert_exporter": "python",
      "pygments_lexer": "ipython3",
      "version": "3.11.5"
    }
  },
  "nbformat": 4,
  "nbformat_minor": 0
}
